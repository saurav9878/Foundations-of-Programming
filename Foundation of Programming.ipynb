{
 "cells": [
  {
   "cell_type": "markdown",
   "metadata": {},
   "source": [
    "# Foundations of Programming"
   ]
  },
  {
   "cell_type": "markdown",
   "metadata": {},
   "source": [
    "## Find whether string is a subsequence of another string"
   ]
  },
  {
   "cell_type": "markdown",
   "metadata": {},
   "source": [
    "### A subsequence is a sequence that can be derived from another sequence by deleting some elements without changing the order of the remaining elements"
   ]
  },
  {
   "cell_type": "code",
   "execution_count": 32,
   "metadata": {},
   "outputs": [],
   "source": [
    "str1 = 'gksrek'"
   ]
  },
  {
   "cell_type": "code",
   "execution_count": 33,
   "metadata": {},
   "outputs": [],
   "source": [
    "str2 = 'geeksforgeeks'"
   ]
  },
  {
   "cell_type": "code",
   "execution_count": 34,
   "metadata": {},
   "outputs": [],
   "source": [
    "def subsequence(str1, str2):\n",
    "    j=0\n",
    "    for i in range(0, len(str2)):\n",
    "        if str2[i]==str1[j]:\n",
    "            if j==len(str1)-1:\n",
    "                print(\"True, str1 is a subsequence of str2\")\n",
    "                return\n",
    "            j+=1\n",
    "    print(\"False, str1 is not a subsequence of str2\")"
   ]
  },
  {
   "cell_type": "code",
   "execution_count": 35,
   "metadata": {},
   "outputs": [
    {
     "name": "stdout",
     "output_type": "stream",
     "text": [
      "True, str1 is a subsequence of str2\n"
     ]
    }
   ],
   "source": [
    "subsequence(str1,str2)"
   ]
  }
 ],
 "metadata": {
  "kernelspec": {
   "display_name": "Python 3",
   "language": "python",
   "name": "python3"
  },
  "language_info": {
   "codemirror_mode": {
    "name": "ipython",
    "version": 3
   },
   "file_extension": ".py",
   "mimetype": "text/x-python",
   "name": "python",
   "nbconvert_exporter": "python",
   "pygments_lexer": "ipython3",
   "version": "3.7.1"
  }
 },
 "nbformat": 4,
 "nbformat_minor": 2
}
